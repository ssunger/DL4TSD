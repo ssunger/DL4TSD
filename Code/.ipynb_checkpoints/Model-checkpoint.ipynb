{
 "cells": [
  {
   "cell_type": "code",
   "execution_count": 4,
   "metadata": {},
   "outputs": [],
   "source": [
    "import torch\n",
    "import pandas as pd\n",
    "import torch.nn as nn"
   ]
  },
  {
   "cell_type": "code",
   "execution_count": 2,
   "metadata": {},
   "outputs": [
    {
     "ename": "SyntaxError",
     "evalue": "unexpected EOF while parsing (<ipython-input-2-eaa2c12dd2d4>, line 1)",
     "output_type": "error",
     "traceback": [
      "\u001b[0;36m  File \u001b[0;32m\"<ipython-input-2-eaa2c12dd2d4>\"\u001b[0;36m, line \u001b[0;32m1\u001b[0m\n\u001b[0;31m    class TS_based_picker(nn.modules):\u001b[0m\n\u001b[0m                                      ^\u001b[0m\n\u001b[0;31mSyntaxError\u001b[0m\u001b[0;31m:\u001b[0m unexpected EOF while parsing\n"
     ]
    }
   ],
   "source": [
    "\n",
    "\n",
    "def which_mat(TS, n,p = 0):\n",
    "    \n",
    "    return TS.iloc()\n",
    "\n",
    "\n",
    "class TS_based_picker(nn.modules):\n",
    "    def __init__(self, kernel = , in_channels =4,  hidden_size = 128):\n",
    "        \"\"\"\n",
    "        \n",
    "        \n",
    "        \"\"\"\n",
    "        super(TS_based_picker, self).__init__(self):\n",
    "        pads  == kernel//2\n",
    "        self.downconv1 = nn.Sequential(\n",
    "            nn.Conv1d(in_channels, out_channels, kernel_size=kernel)\n",
    "            nn.BatchNorm1d()\n",
    "            nn.ReLU()\n",
    "            nn.MaxPool1d()\n",
    "            )\n",
    "        self.downconv2 = nn.Sequential(\n",
    "            nn.Conv1d(in_channels, out_channels, kernel_size = (kenrnel-2), padding = (pads-1) )\n",
    "            nn.BatchNorm1d()\n",
    "            nn.ReLU()\n",
    "            nn.MaxPool1d()\n",
    "            )\n",
    "        \n",
    "        self.downconv3 = nn.Sequential(\n",
    "            nn.Conv1d(in_channels, out_channels, kernel_size = (kenrnel-2), padding = (pads-1))\n",
    "            nn.BatchNorm1d()\n",
    "            nn.ReLU()\n",
    "            nn.MaxPool1d()\n",
    "            )\n",
    "        \n",
    "        self.\n",
    "    \n",
    "    def forward(self, input):\n",
    "        \n",
    "        input_1, input_2 = input[0], input[1]\n",
    "        \n",
    "        #run the model on the first TS\n",
    "        self.c11 = self.cov1(input_1)\n",
    "        self.c12 = self.cov2(self.c11)\n",
    "        self.c13 = self.cov3(self.c12)\n",
    "        \n",
    "        #run the model on the second TS\n",
    "        self.c21 = self.cov1(input_2)\n",
    "        self.c22 = self.cov2(self.c11)\n",
    "        self.c23 = self.cov3(self.c12)\n",
    "        \n",
    "        #concat the processed data\n",
    "        self.cater = torch.cat((self.c23, self.c3), dim=1)\n",
    "        \n",
    "        #\n",
    "        \n",
    "        "
   ]
  },
  {
   "cell_type": "code",
   "execution_count": 8,
   "metadata": {},
   "outputs": [],
   "source": [
    "b = pd.read_csv(\"100stocks.csv\")"
   ]
  },
  {
   "cell_type": "code",
   "execution_count": 10,
   "metadata": {},
   "outputs": [
    {
     "data": {
      "text/plain": [
       "0        22.39\n",
       "1        22.18\n",
       "2        22.19\n",
       "3        22.39\n",
       "4        22.19\n",
       "5        21.55\n",
       "6        21.49\n",
       "7        21.17\n",
       "8        20.46\n",
       "9        20.90\n",
       "10       21.04\n",
       "11       20.59\n",
       "12       20.57\n",
       "13       20.89\n",
       "14       20.77\n",
       "15       20.70\n",
       "16       21.40\n",
       "17       22.23\n",
       "18       22.79\n",
       "19       23.62\n",
       "20       24.40\n",
       "21       24.62\n",
       "22       24.33\n",
       "23       24.50\n",
       "24       23.90\n",
       "25       23.74\n",
       "26       23.21\n",
       "27       23.51\n",
       "28       23.11\n",
       "29       23.52\n",
       "         ...  \n",
       "1479    233.99\n",
       "1480    255.47\n",
       "1481    261.04\n",
       "1482    267.74\n",
       "1483    270.48\n",
       "1484    268.25\n",
       "1485    263.97\n",
       "1486    268.45\n",
       "1487    273.18\n",
       "1488    271.25\n",
       "1489    268.18\n",
       "1490    265.71\n",
       "1491    275.13\n",
       "1492    279.27\n",
       "1493    281.54\n",
       "1494    285.38\n",
       "1495    288.60\n",
       "1496    294.52\n",
       "1497    294.74\n",
       "1498    293.17\n",
       "1499    295.85\n",
       "1500    294.57\n",
       "1501    293.05\n",
       "1502    287.98\n",
       "1503    294.01\n",
       "1504    292.31\n",
       "1505    286.39\n",
       "1506    283.99\n",
       "1507    295.40\n",
       "1508    286.43\n",
       "Name: ABMD, Length: 1509, dtype: float64"
      ]
     },
     "execution_count": 10,
     "metadata": {},
     "output_type": "execute_result"
    }
   ],
   "source": [
    "b[\"ABMD\"]"
   ]
  },
  {
   "cell_type": "code",
   "execution_count": null,
   "metadata": {},
   "outputs": [],
   "source": []
  }
 ],
 "metadata": {
  "kernelspec": {
   "display_name": "Python 3",
   "language": "python",
   "name": "python3"
  },
  "language_info": {
   "codemirror_mode": {
    "name": "ipython",
    "version": 3
   },
   "file_extension": ".py",
   "mimetype": "text/x-python",
   "name": "python",
   "nbconvert_exporter": "python",
   "pygments_lexer": "ipython3",
   "version": "3.6.2"
  }
 },
 "nbformat": 4,
 "nbformat_minor": 2
}
