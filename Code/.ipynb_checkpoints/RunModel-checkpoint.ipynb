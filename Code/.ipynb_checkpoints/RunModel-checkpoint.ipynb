{
 "cells": [
  {
   "cell_type": "code",
   "execution_count": 2,
   "metadata": {},
   "outputs": [],
   "source": [
    "#setting up args\n",
    "class AttrDict(dict):\n",
    "    def __init__(self, *args, **kwargs):\n",
    "        super(AttrDict, self).__init__(*args, **kwargs)\n",
    "        self.__dict__ = self\n",
    "\n",
    "arg = AttrDict()\n",
    "args = {\"seed\": 12345,\n",
    "        \"GPU\" : \"TRUE\",\n",
    "        \"dir_name\" : \"trial1\",\n",
    "        \"lrn_rate\" : 0.005,\n",
    "        \"model_use\" : \"Mod1\",\n",
    "        \"num_in_chans\" : 4,\n",
    "        \"k_size\" : 5,\n",
    "        \"loss_type\" : \"L2\",\n",
    "        \"num_epochs\" : 10,\n",
    "        \"max_train\" : 2*10**4,\n",
    "        \"num_filters\" : 128,\n",
    "        \"days_of_data\" : 8*260,\n",
    "        \"num_stocks_each\" : 100,\n",
    "        \"periods_use\": 130,\n",
    "        \"ratio\": 75,\n",
    "        \"periods_testing\": 50,\n",
    "        \"periods_approximate\": 20,\n",
    "        \"save_model_as\" : \"Mod1.pt\",\n",
    "        \"testing_dates\" : \"Random\"\n",
    "}\n",
    "arg.update(args)\n",
    "train_d = \"pickle_that_pickles\" #where are the pickleessss"
   ]
  },
  {
   "cell_type": "code",
   "execution_count": null,
   "metadata": {},
   "outputs": [],
   "source": [
    "%run Model.ipynb\n",
    "train_d = [S_P_5.data_cleaned, S_P_4.data_cleaned]\n",
    "the_model = train(train_d, arg)"
   ]
  },
  {
   "cell_type": "code",
   "execution_count": 161,
   "metadata": {},
   "outputs": [
    {
     "name": "stdout",
     "output_type": "stream",
     "text": [
      "/home/sstr/DL4TSD/Data Sets/Constituent Data\n",
      "0.3333333333333333\n",
      "0.6666666666666666\n",
      "1.0\n",
      "1.0\n",
      "/home/sstr/DL4TSD/Data Sets/Constituent Data\n",
      "1.0\n",
      "0.3333333333333333\n",
      "0.6666666666666666\n",
      "1.0\n"
     ]
    }
   ],
   "source": [
    "%run DataAttainment.ipynb\n",
    "qdl_key_implament = \"\"\n",
    "\n",
    "S_P_4 = data(qdl_key_implament, from_end = arg.days_of_data, \n",
    "             data_type = [\"SP400\"])\n",
    "S_P_4.get_data_daily_rand(num_use = arg.num_stocks_each,\n",
    "                          path_use = \"../Data Sets/Constituent Data/\")\n",
    "S_P_4.set_up_features(num_features = [arg.periods_use,\n",
    "                                     arg.periods_approximate])\n",
    "\n",
    "S_P_5 = data(qdl_key_implament, from_end=arg.days_of_data, \n",
    "             data_type = [\"SP500\"])\n",
    "S_P_5.get_data_daily_rand(num_use = arg.num_stocks_each,\n",
    "                          path_use = \"../Data Sets/Constituent Data/\")\n",
    "S_P_5.set_up_features(num_features = [arg.periods_use, \n",
    "                                      arg.periods_approximate])"
   ]
  },
  {
   "cell_type": "code",
   "execution_count": null,
   "metadata": {},
   "outputs": [],
   "source": []
  }
 ],
 "metadata": {
  "hide_input": false,
  "kernelspec": {
   "display_name": "Python 3",
   "language": "python",
   "name": "python3"
  },
  "language_info": {
   "codemirror_mode": {
    "name": "ipython",
    "version": 3
   },
   "file_extension": ".py",
   "mimetype": "text/x-python",
   "name": "python",
   "nbconvert_exporter": "python",
   "pygments_lexer": "ipython3",
   "version": "3.6.7"
  },
  "toc": {
   "base_numbering": 1,
   "nav_menu": {},
   "number_sections": true,
   "sideBar": true,
   "skip_h1_title": false,
   "title_cell": "Table of Contents",
   "title_sidebar": "Contents",
   "toc_cell": false,
   "toc_position": {},
   "toc_section_display": true,
   "toc_window_display": false
  }
 },
 "nbformat": 4,
 "nbformat_minor": 2
}
