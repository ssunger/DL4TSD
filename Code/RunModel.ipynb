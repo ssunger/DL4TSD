{
 "cells": [
  {
   "cell_type": "code",
   "execution_count": 15,
   "metadata": {},
   "outputs": [],
   "source": [
    "#setting up args\n",
    "class AttrDict(dict):\n",
    "    def __init__(self, *args, **kwargs):\n",
    "        super(AttrDict, self).__init__(*args, **kwargs)\n",
    "        self.__dict__ = self\n",
    "\n",
    "arg = AttrDict()\n",
    "args = {\"seed\": 12345,\n",
    "        \"GPU\" : \"TRUE\",\n",
    "        \"dir_name\" : \"trial1\",\n",
    "        \"lrn_rate\" : 0.005,\n",
    "        \"model_use\" : \"Mod1\",\n",
    "        \"num_in_chans\" : 4,\n",
    "        \"k_size\" : 5,\n",
    "        \"loss_type\" : \"L2\",\n",
    "        \"num_epochs\" : 10,\n",
    "        \"max_train\" : 2*10**4,\n",
    "        \"num_filters\" : 128,\n",
    "        \"days_of_data\" : 8*260,\n",
    "        \"num_stocks_each\" : 100,\n",
    "        \"periods_use\": 130,\n",
    "        \"periods_approximate\": 20\n",
    "}\n",
    "arg.update(args)\n",
    "train_d = \"pickle_that_pickles\" #where are the pickleessss"
   ]
  },
  {
   "cell_type": "code",
   "execution_count": 14,
   "metadata": {},
   "outputs": [
    {
     "name": "stdout",
     "output_type": "stream",
     "text": [
      "/home/sstr/DL4TSD/Data Sets/Constituent Data\n",
      "0.3333333333333333\n",
      "0.6666666666666666\n",
      "1.0\n",
      "1.0\n"
     ]
    },
    {
     "ename": "AttributeError",
     "evalue": "'AttrDict' object has no attribute 'approximate'",
     "output_type": "error",
     "traceback": [
      "\u001b[0;31m---------------------------------------------------------------------------\u001b[0m",
      "\u001b[0;31mAttributeError\u001b[0m                            Traceback (most recent call last)",
      "\u001b[0;32m<ipython-input-14-77f4c921feb9>\u001b[0m in \u001b[0;36m<module>\u001b[0;34m\u001b[0m\n\u001b[1;32m      5\u001b[0m S_P_4.get_data_daily_rand(num_use = arg.num_stocks_each,\n\u001b[1;32m      6\u001b[0m                           path_use = \"../Data Sets/Constituent Data/\")\n\u001b[0;32m----> 7\u001b[0;31m \u001b[0mS_P_4\u001b[0m\u001b[0;34m.\u001b[0m\u001b[0mset_up_features\u001b[0m\u001b[0;34m(\u001b[0m\u001b[0mnum_features\u001b[0m \u001b[0;34m=\u001b[0m \u001b[0;34m[\u001b[0m\u001b[0marg\u001b[0m\u001b[0;34m.\u001b[0m\u001b[0mapproximate\u001b[0m\u001b[0;34m]\u001b[0m\u001b[0;34m)\u001b[0m\u001b[0;34m\u001b[0m\u001b[0;34m\u001b[0m\u001b[0m\n\u001b[0m\u001b[1;32m      8\u001b[0m \u001b[0;34m\u001b[0m\u001b[0m\n\u001b[1;32m      9\u001b[0m S_P_5 = data(qdl_key_implament, from_end=arg.days_of_data, \n",
      "\u001b[0;31mAttributeError\u001b[0m: 'AttrDict' object has no attribute 'approximate'"
     ]
    }
   ],
   "source": [
    "%run DataAttainment.ipynb\n",
    "qdl_key_implament = \"zFoL6yQsQfFgifpzPQFC\"\n",
    "S_P_4 = data(qdl_key_implament, from_end = arg.days_of_data, \n",
    "             data_type = [\"SP400\"])\n",
    "S_P_4.get_data_daily_rand(num_use = arg.num_stocks_each,\n",
    "                          path_use = \"../Data Sets/Constituent Data/\")\n",
    "S_P_4.set_up_features(num_features = [arg.periods_use,\n",
    "                                     arg.periods_approximate])\n",
    "\n",
    "S_P_5 = data(qdl_key_implament, from_end=arg.days_of_data, \n",
    "             data_type = [\"SP500\"])\n",
    "S_P_5.get_data_daily_rand(num_use = arg.num_stocks_each,\n",
    "                          path_use = \"../Data Sets/Constituent Data/\")\n",
    "S_P_5.set_up_features(num_features = [arg.periods_use, \n",
    "                                      arg.periods_approximate])"
   ]
  },
  {
   "cell_type": "code",
   "execution_count": 6,
   "metadata": {},
   "outputs": [
    {
     "ename": "TypeError",
     "evalue": "new() received an invalid combination of arguments - got (float, int, int), but expected one of:\n * (torch.device device)\n * (torch.Storage storage)\n * (Tensor other)\n * (tuple of ints size, torch.device device)\n * (object data, torch.device device)\n",
     "output_type": "error",
     "traceback": [
      "\u001b[0;31m---------------------------------------------------------------------------\u001b[0m",
      "\u001b[0;31mTypeError\u001b[0m                                 Traceback (most recent call last)",
      "\u001b[0;32m<ipython-input-6-1c96b96abd78>\u001b[0m in \u001b[0;36m<module>\u001b[0;34m\u001b[0m\n\u001b[1;32m      1\u001b[0m \u001b[0;31m#model\u001b[0m\u001b[0;34m\u001b[0m\u001b[0;34m\u001b[0m\u001b[0;34m\u001b[0m\u001b[0m\n\u001b[0;32m----> 2\u001b[0;31m \u001b[0mthe_model\u001b[0m \u001b[0;34m=\u001b[0m \u001b[0mtrain\u001b[0m\u001b[0;34m(\u001b[0m\u001b[0mtrain_d\u001b[0m\u001b[0;34m,\u001b[0m \u001b[0marg\u001b[0m\u001b[0;34m)\u001b[0m\u001b[0;34m\u001b[0m\u001b[0;34m\u001b[0m\u001b[0m\n\u001b[0m",
      "\u001b[0;32m<ipython-input-4-f1bec7bfe1ee>\u001b[0m in \u001b[0;36mtrain\u001b[0;34m(train_d, args, mod_use)\u001b[0m\n\u001b[1;32m     20\u001b[0m     \u001b[0;32mif\u001b[0m \u001b[0mmod_use\u001b[0m \u001b[0;32mis\u001b[0m \u001b[0;32mNone\u001b[0m\u001b[0;34m:\u001b[0m\u001b[0;34m\u001b[0m\u001b[0;34m\u001b[0m\u001b[0m\n\u001b[1;32m     21\u001b[0m         \u001b[0;32mif\u001b[0m \u001b[0margs\u001b[0m\u001b[0;34m.\u001b[0m\u001b[0mmodel_use\u001b[0m \u001b[0;34m==\u001b[0m \u001b[0;34m\"Mod1\"\u001b[0m\u001b[0;34m:\u001b[0m\u001b[0;34m\u001b[0m\u001b[0;34m\u001b[0m\u001b[0m\n\u001b[0;32m---> 22\u001b[0;31m               \u001b[0mmod_use\u001b[0m \u001b[0;34m=\u001b[0m \u001b[0mTS_based_simple\u001b[0m\u001b[0;34m(\u001b[0m\u001b[0mnum_outs\u001b[0m \u001b[0;34m=\u001b[0m \u001b[0margs\u001b[0m\u001b[0;34m.\u001b[0m\u001b[0mk_size\u001b[0m\u001b[0;34m)\u001b[0m \u001b[0;31m#args.num_filters, num_colours, arg.num_in_chans)\u001b[0m\u001b[0;34m\u001b[0m\u001b[0;34m\u001b[0m\u001b[0m\n\u001b[0m\u001b[1;32m     23\u001b[0m         \u001b[0;32melif\u001b[0m \u001b[0margs\u001b[0m\u001b[0;34m.\u001b[0m\u001b[0mmodel_use\u001b[0m \u001b[0;34m==\u001b[0m \u001b[0;34m\"Mod1wFactors\"\u001b[0m\u001b[0;34m:\u001b[0m\u001b[0;34m\u001b[0m\u001b[0;34m\u001b[0m\u001b[0m\n\u001b[1;32m     24\u001b[0m               \u001b[0mmod_use\u001b[0m \u001b[0;34m=\u001b[0m \u001b[0mTS_based__wfactors\u001b[0m\u001b[0;34m(\u001b[0m\u001b[0mnum_outs\u001b[0m \u001b[0;34m=\u001b[0m \u001b[0margs\u001b[0m\u001b[0;34m.\u001b[0m\u001b[0mk_size\u001b[0m\u001b[0;34m)\u001b[0m \u001b[0;31m#, args.num_filters, num_colours, arg.num_in_chans)\u001b[0m\u001b[0;34m\u001b[0m\u001b[0;34m\u001b[0m\u001b[0m\n",
      "\u001b[0;32m<ipython-input-4-272815e62a9b>\u001b[0m in \u001b[0;36m__init__\u001b[0;34m(self, num_outs, kernel, in_channels, hidden_size)\u001b[0m\n\u001b[1;32m     19\u001b[0m         self.downconv2 = nn.Sequential(\n\u001b[1;32m     20\u001b[0m             nn.Conv1d(in_channels = hidden_size, out_channels = (hidden_size/2), \n\u001b[0;32m---> 21\u001b[0;31m                       kernel_size = (kernel-2), stride = 2, padding = (pads-1) ),\n\u001b[0m\u001b[1;32m     22\u001b[0m             \u001b[0mnn\u001b[0m\u001b[0;34m.\u001b[0m\u001b[0mBatchNorm1d\u001b[0m\u001b[0;34m(\u001b[0m\u001b[0mhidden_size\u001b[0m\u001b[0;34m/\u001b[0m\u001b[0;36m2\u001b[0m\u001b[0;34m)\u001b[0m\u001b[0;34m,\u001b[0m\u001b[0;34m\u001b[0m\u001b[0;34m\u001b[0m\u001b[0m\n\u001b[1;32m     23\u001b[0m             \u001b[0mnn\u001b[0m\u001b[0;34m.\u001b[0m\u001b[0mReLU\u001b[0m\u001b[0;34m(\u001b[0m\u001b[0;34m)\u001b[0m\u001b[0;34m,\u001b[0m\u001b[0;34m\u001b[0m\u001b[0;34m\u001b[0m\u001b[0m\n",
      "\u001b[0;32m~/.virtualenvs/dl4cv/lib/python3.6/site-packages/torch/nn/modules/conv.py\u001b[0m in \u001b[0;36m__init__\u001b[0;34m(self, in_channels, out_channels, kernel_size, stride, padding, dilation, groups, bias)\u001b[0m\n\u001b[1;32m    180\u001b[0m         super(Conv1d, self).__init__(\n\u001b[1;32m    181\u001b[0m             \u001b[0min_channels\u001b[0m\u001b[0;34m,\u001b[0m \u001b[0mout_channels\u001b[0m\u001b[0;34m,\u001b[0m \u001b[0mkernel_size\u001b[0m\u001b[0;34m,\u001b[0m \u001b[0mstride\u001b[0m\u001b[0;34m,\u001b[0m \u001b[0mpadding\u001b[0m\u001b[0;34m,\u001b[0m \u001b[0mdilation\u001b[0m\u001b[0;34m,\u001b[0m\u001b[0;34m\u001b[0m\u001b[0;34m\u001b[0m\u001b[0m\n\u001b[0;32m--> 182\u001b[0;31m             False, _single(0), groups, bias)\n\u001b[0m\u001b[1;32m    183\u001b[0m \u001b[0;34m\u001b[0m\u001b[0m\n\u001b[1;32m    184\u001b[0m     \u001b[0;34m@\u001b[0m\u001b[0mweak_script_method\u001b[0m\u001b[0;34m\u001b[0m\u001b[0;34m\u001b[0m\u001b[0m\n",
      "\u001b[0;32m~/.virtualenvs/dl4cv/lib/python3.6/site-packages/torch/nn/modules/conv.py\u001b[0m in \u001b[0;36m__init__\u001b[0;34m(self, in_channels, out_channels, kernel_size, stride, padding, dilation, transposed, output_padding, groups, bias)\u001b[0m\n\u001b[1;32m     36\u001b[0m         \u001b[0;32melse\u001b[0m\u001b[0;34m:\u001b[0m\u001b[0;34m\u001b[0m\u001b[0;34m\u001b[0m\u001b[0m\n\u001b[1;32m     37\u001b[0m             self.weight = Parameter(torch.Tensor(\n\u001b[0;32m---> 38\u001b[0;31m                 out_channels, in_channels // groups, *kernel_size))\n\u001b[0m\u001b[1;32m     39\u001b[0m         \u001b[0;32mif\u001b[0m \u001b[0mbias\u001b[0m\u001b[0;34m:\u001b[0m\u001b[0;34m\u001b[0m\u001b[0;34m\u001b[0m\u001b[0m\n\u001b[1;32m     40\u001b[0m             \u001b[0mself\u001b[0m\u001b[0;34m.\u001b[0m\u001b[0mbias\u001b[0m \u001b[0;34m=\u001b[0m \u001b[0mParameter\u001b[0m\u001b[0;34m(\u001b[0m\u001b[0mtorch\u001b[0m\u001b[0;34m.\u001b[0m\u001b[0mTensor\u001b[0m\u001b[0;34m(\u001b[0m\u001b[0mout_channels\u001b[0m\u001b[0;34m)\u001b[0m\u001b[0;34m)\u001b[0m\u001b[0;34m\u001b[0m\u001b[0;34m\u001b[0m\u001b[0m\n",
      "\u001b[0;31mTypeError\u001b[0m: new() received an invalid combination of arguments - got (float, int, int), but expected one of:\n * (torch.device device)\n * (torch.Storage storage)\n * (Tensor other)\n * (tuple of ints size, torch.device device)\n * (object data, torch.device device)\n"
     ]
    }
   ],
   "source": [
    "%run Model.ipynb\n",
    "the_model = train(train_d, arg)"
   ]
  },
  {
   "cell_type": "code",
   "execution_count": null,
   "metadata": {},
   "outputs": [],
   "source": [
    "sp500 = open(\"../Data Sets/Constituent Data/SP500.pickle\", 'r')\n",
    "pickle.load(sp500)"
   ]
  }
 ],
 "metadata": {
  "hide_input": false,
  "kernelspec": {
   "display_name": "Python 3",
   "language": "python",
   "name": "python3"
  },
  "language_info": {
   "codemirror_mode": {
    "name": "ipython",
    "version": 3
   },
   "file_extension": ".py",
   "mimetype": "text/x-python",
   "name": "python",
   "nbconvert_exporter": "python",
   "pygments_lexer": "ipython3",
   "version": "3.6.7"
  },
  "toc": {
   "base_numbering": 1,
   "nav_menu": {},
   "number_sections": true,
   "sideBar": true,
   "skip_h1_title": false,
   "title_cell": "Table of Contents",
   "title_sidebar": "Contents",
   "toc_cell": false,
   "toc_position": {},
   "toc_section_display": true,
   "toc_window_display": false
  }
 },
 "nbformat": 4,
 "nbformat_minor": 2
}
