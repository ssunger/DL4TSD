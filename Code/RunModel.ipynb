{
 "cells": [
  {
   "cell_type": "code",
   "execution_count": 68,
   "metadata": {},
   "outputs": [],
   "source": [
    "#setting up args\n",
    "class AttrDict(dict):\n",
    "    def __init__(self, *args, **kwargs):\n",
    "        super(AttrDict, self).__init__(*args, **kwargs)\n",
    "        self.__dict__ = self\n",
    "\n",
    "arg = AttrDict()\n",
    "args = {\"seed\": 12345,\n",
    "        \"GPU\" : \"TRUE\",\n",
    "        \"dir_name\" : \"trial1\",\n",
    "        \"lrn_rate\" : 0.005,\n",
    "        \"model_use\" : \"Mod1\",\n",
    "        \"num_in_chans\" : 4,\n",
    "        \"k_size\" : 5,\n",
    "        \"loss_type\" : \"L2\",\n",
    "        \"num_epochs\" : 10,\n",
    "        \"max_train\" : 2*10**4,\n",
    "        \"num_filters\" : 128,\n",
    "        \"days_of_data\" : 8*260,\n",
    "        \"num_stocks_each\" : 100,\n",
    "        \"periods_use\": 130,\n",
    "        \"ratio\": 75,\n",
    "        \"periods_testing\": 50,\n",
    "        \"periods_approximate\": 20,\n",
    "        \"save_model_as\" : \"Mod1.pt\",\n",
    "        \"testing_dates\" : \"Random\"\n",
    "}\n",
    "arg.update(args)\n",
    "train_d = \"pickle_that_pickles\" #where are the pickleessss"
   ]
  },
  {
   "cell_type": "code",
   "execution_count": 143,
   "metadata": {},
   "outputs": [
    {
     "name": "stdout",
     "output_type": "stream",
     "text": [
      "764\n"
     ]
    },
    {
     "ename": "NameError",
     "evalue": "name 'apple' is not defined",
     "output_type": "error",
     "traceback": [
      "\u001b[0;31m---------------------------------------------------------------------------\u001b[0m",
      "\u001b[0;31mNameError\u001b[0m                                 Traceback (most recent call last)",
      "\u001b[0;32m<ipython-input-143-05b90e73996e>\u001b[0m in \u001b[0;36m<module>\u001b[0;34m\u001b[0m\n\u001b[1;32m      1\u001b[0m \u001b[0mget_ipython\u001b[0m\u001b[0;34m(\u001b[0m\u001b[0;34m)\u001b[0m\u001b[0;34m.\u001b[0m\u001b[0mrun_line_magic\u001b[0m\u001b[0;34m(\u001b[0m\u001b[0;34m'run'\u001b[0m\u001b[0;34m,\u001b[0m \u001b[0;34m'Model.ipynb'\u001b[0m\u001b[0;34m)\u001b[0m\u001b[0;34m\u001b[0m\u001b[0;34m\u001b[0m\u001b[0m\n\u001b[1;32m      2\u001b[0m \u001b[0mtrain_d\u001b[0m \u001b[0;34m=\u001b[0m \u001b[0;34m[\u001b[0m\u001b[0mS_P_5\u001b[0m\u001b[0;34m.\u001b[0m\u001b[0mdata_cleaned\u001b[0m\u001b[0;34m,\u001b[0m \u001b[0mS_P_4\u001b[0m\u001b[0;34m.\u001b[0m\u001b[0mdata_cleaned\u001b[0m\u001b[0;34m]\u001b[0m\u001b[0;34m\u001b[0m\u001b[0;34m\u001b[0m\u001b[0m\n\u001b[0;32m----> 3\u001b[0;31m \u001b[0mthe_model\u001b[0m \u001b[0;34m=\u001b[0m \u001b[0mtrain\u001b[0m\u001b[0;34m(\u001b[0m\u001b[0mtrain_d\u001b[0m\u001b[0;34m,\u001b[0m \u001b[0marg\u001b[0m\u001b[0;34m)\u001b[0m\u001b[0;34m\u001b[0m\u001b[0;34m\u001b[0m\u001b[0m\n\u001b[0m",
      "\u001b[0;32m<ipython-input-143-687ac82128c1>\u001b[0m in \u001b[0;36mtrain\u001b[0;34m(train_d, args, mod_use)\u001b[0m\n\u001b[1;32m     33\u001b[0m \u001b[0;34m\u001b[0m\u001b[0m\n\u001b[1;32m     34\u001b[0m         \u001b[0;31m#let's train\u001b[0m\u001b[0;34m\u001b[0m\u001b[0;34m\u001b[0m\u001b[0;34m\u001b[0m\u001b[0m\n\u001b[0;32m---> 35\u001b[0;31m         \u001b[0mtraining_d\u001b[0m\u001b[0;34m,\u001b[0m \u001b[0mvalidation_d\u001b[0m \u001b[0;34m=\u001b[0m \u001b[0mtrain_set\u001b[0m\u001b[0;34m(\u001b[0m\u001b[0mtrain_d\u001b[0m\u001b[0;34m,\u001b[0m \u001b[0margs\u001b[0m\u001b[0;34m)\u001b[0m\u001b[0;34m\u001b[0m\u001b[0;34m\u001b[0m\u001b[0m\n\u001b[0m\u001b[1;32m     36\u001b[0m         \u001b[0;32mfor\u001b[0m \u001b[0minput_d\u001b[0m\u001b[0;34m,\u001b[0m \u001b[0moutput_d\u001b[0m \u001b[0;32min\u001b[0m \u001b[0mtraining_d\u001b[0m\u001b[0;34m:\u001b[0m\u001b[0;34m\u001b[0m\u001b[0;34m\u001b[0m\u001b[0m\n\u001b[1;32m     37\u001b[0m             \u001b[0;31m#setup optimizer\u001b[0m\u001b[0;34m\u001b[0m\u001b[0;34m\u001b[0m\u001b[0;34m\u001b[0m\u001b[0m\n",
      "\u001b[0;32m<ipython-input-143-1a853d300ec4>\u001b[0m in \u001b[0;36mtrain_set\u001b[0;34m(data_use, args)\u001b[0m\n\u001b[1;32m    121\u001b[0m \u001b[0;34m\u001b[0m\u001b[0m\n\u001b[1;32m    122\u001b[0m \u001b[0;34m\u001b[0m\u001b[0m\n\u001b[0;32m--> 123\u001b[0;31m     \u001b[0;32mreturn\u001b[0m \u001b[0mcreate_data_sets\u001b[0m\u001b[0;34m(\u001b[0m\u001b[0mp_use\u001b[0m\u001b[0;34m,\u001b[0m \u001b[0mwhich_combs\u001b[0m\u001b[0;34m,\u001b[0m \u001b[0mdata_use\u001b[0m\u001b[0;34m)\u001b[0m\u001b[0;34m\u001b[0m\u001b[0;34m\u001b[0m\u001b[0m\n\u001b[0m\u001b[1;32m    124\u001b[0m \u001b[0;34m\u001b[0m\u001b[0m\n",
      "\u001b[0;32m<ipython-input-143-1a853d300ec4>\u001b[0m in \u001b[0;36mcreate_data_sets\u001b[0;34m(list_periods, list_combs, data_use)\u001b[0m\n\u001b[1;32m     68\u001b[0m \u001b[0;34m\u001b[0m\u001b[0m\n\u001b[1;32m     69\u001b[0m \u001b[0;34m\u001b[0m\u001b[0m\n\u001b[0;32m---> 70\u001b[0;31m     \u001b[0;32mreturn\u001b[0m \u001b[0mapple\u001b[0m\u001b[0;34m\u001b[0m\u001b[0;34m\u001b[0m\u001b[0m\n\u001b[0m\u001b[1;32m     71\u001b[0m \u001b[0;34m\u001b[0m\u001b[0m\n\u001b[1;32m     72\u001b[0m     \u001b[0;32mreturn\u001b[0m \u001b[0mdater\u001b[0m\u001b[0;34m[\u001b[0m\u001b[0;36m1\u001b[0m\u001b[0;34m]\u001b[0m\u001b[0;34m,\u001b[0m \u001b[0mdater\u001b[0m\u001b[0;34m[\u001b[0m\u001b[0;36m0\u001b[0m\u001b[0;34m]\u001b[0m\u001b[0;34m\u001b[0m\u001b[0;34m\u001b[0m\u001b[0m\n",
      "\u001b[0;31mNameError\u001b[0m: name 'apple' is not defined"
     ]
    }
   ],
   "source": [
    "%run Model.ipynb\n",
    "train_d = [S_P_5.data_cleaned, S_P_4.data_cleaned]\n",
    "the_model = train(train_d, arg)"
   ]
  },
  {
   "cell_type": "code",
   "execution_count": 137,
   "metadata": {},
   "outputs": [
    {
     "data": {
      "text/plain": [
       "True"
      ]
     },
     "execution_count": 137,
     "metadata": {},
     "output_type": "execute_result"
    }
   ],
   "source": [
    "\"WPX\" in list(S_P_4.data_cleaned.keys())"
   ]
  },
  {
   "cell_type": "code",
   "execution_count": 97,
   "metadata": {},
   "outputs": [
    {
     "name": "stdout",
     "output_type": "stream",
     "text": [
      "/home/sstr/DL4TSD/Data Sets/Constituent Data\n",
      "0.3333333333333333\n",
      "0.6666666666666666\n",
      "1.0\n",
      "1.0\n",
      "/home/sstr/DL4TSD/Data Sets/Constituent Data\n",
      "1.0\n",
      "0.3333333333333333\n",
      "0.6666666666666666\n",
      "1.0\n"
     ]
    }
   ],
   "source": [
    "%run DataAttainment.ipynb\n",
    "qdl_key_implament = \"zFoL6yQsQfFgifpzPQFC\"\n",
    "\n",
    "S_P_4 = data(qdl_key_implament, from_end = arg.days_of_data, \n",
    "             data_type = [\"SP400\"])\n",
    "S_P_4.get_data_daily_rand(num_use = arg.num_stocks_each,\n",
    "                          path_use = \"../Data Sets/Constituent Data/\")\n",
    "S_P_4.set_up_features(num_features = [arg.periods_use,\n",
    "                                     arg.periods_approximate])\n",
    "\n",
    "S_P_5 = data(qdl_key_implament, from_end=arg.days_of_data, \n",
    "             data_type = [\"SP500\"])\n",
    "S_P_5.get_data_daily_rand(num_use = arg.num_stocks_each,\n",
    "                          path_use = \"../Data Sets/Constituent Data/\")\n",
    "S_P_5.set_up_features(num_features = [arg.periods_use, \n",
    "                                      arg.periods_approximate])"
   ]
  }
 ],
 "metadata": {
  "hide_input": false,
  "kernelspec": {
   "display_name": "Python 3",
   "language": "python",
   "name": "python3"
  },
  "language_info": {
   "codemirror_mode": {
    "name": "ipython",
    "version": 3
   },
   "file_extension": ".py",
   "mimetype": "text/x-python",
   "name": "python",
   "nbconvert_exporter": "python",
   "pygments_lexer": "ipython3",
   "version": "3.6.7"
  },
  "toc": {
   "base_numbering": 1,
   "nav_menu": {},
   "number_sections": true,
   "sideBar": true,
   "skip_h1_title": false,
   "title_cell": "Table of Contents",
   "title_sidebar": "Contents",
   "toc_cell": false,
   "toc_position": {},
   "toc_section_display": true,
   "toc_window_display": false
  }
 },
 "nbformat": 4,
 "nbformat_minor": 2
}
