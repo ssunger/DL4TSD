{
 "cells": [
  {
   "cell_type": "markdown",
   "metadata": {},
   "source": [
    "# Running the Model"
   ]
  },
  {
   "cell_type": "markdown",
   "metadata": {},
   "source": [
    "## Setting up the Parameters"
   ]
  },
  {
   "cell_type": "code",
   "execution_count": 1,
   "metadata": {},
   "outputs": [],
   "source": [
    "#setting up args\n",
    "class AttrDict(dict):\n",
    "    def __init__(self, *args, **kwargs):\n",
    "        super(AttrDict, self).__init__(*args, **kwargs)\n",
    "        self.__dict__ = self\n",
    "\n",
    "arg = AttrDict()\n",
    "args = {\"seed\": 12345,\n",
    "        \"GPU\" : \"TRUE\",\n",
    "        \"dir_name\" : \"trial1\",\n",
    "        \"lrn_rate\" : 0.005,\n",
    "        \"model_use\" : \"Mod1\",\n",
    "        \"num_in_chans\" : 4,\n",
    "        \"k_size\" : 5,\n",
    "        \"loss_type\" : \"L2\",\n",
    "        \"num_epochs\" : 10,\n",
    "        \"max_train\" : 2*10**4,\n",
    "        \"num_filters\" : 128,\n",
    "        \"days_of_data\" : 8*260,\n",
    "        \"num_stocks_each\" : 100,\n",
    "        \"periods_use\": 130,\n",
    "        \"ratio\": 75,\n",
    "        \"periods_testing\": 50,\n",
    "        \"periods_approximate\": 20,\n",
    "        \"save_model_as\" : \"Mod1.pt\",\n",
    "        \"testing_dates\" : \"Random\"\n",
    "}\n",
    "arg.update(args)\n",
    "train_d = \"pickle_that_pickles\" #where are the pickleessss"
   ]
  },
  {
   "cell_type": "markdown",
   "metadata": {},
   "source": [
    "## Getting the Data"
   ]
  },
  {
   "cell_type": "code",
   "execution_count": null,
   "metadata": {},
   "outputs": [
    {
     "name": "stdout",
     "output_type": "stream",
     "text": [
      "/home/sstr/DL4TSD/Data Sets/Constituent Data\n",
      "0.3333333333333333\n",
      "0.6666666666666666\n",
      "/home/sstr/DL4TSD/Data Sets/Constituent Data\n",
      "0.3333333333333333\n",
      "0.6666666666666666\n",
      "1.0\n",
      "1.0\n",
      "1.0\n",
      "1.0\n"
     ]
    }
   ],
   "source": [
    "%%time\n",
    "%run DataAttainment.ipynb\n",
    "\n",
    "qdl_key_implament = \"zFoL6yQsQfFgifpzPQFC\" #API key for quandl data\n",
    "\n",
    "S_P_4 = data(qdl_key_implament, from_end = arg.days_of_data, \n",
    "             data_type = [\"SP400\"])\n",
    "S_P_4.get_data_daily_rand(num_use = arg.num_stocks_each,\n",
    "                          path_use = \"../Data Sets/Constituent Data/\")\n",
    "S_P_4.set_up_features(num_features = [arg.periods_use,\n",
    "                                     arg.periods_approximate])\n",
    "\n",
    "S_P_5 = data(qdl_key_implament, from_end=arg.days_of_data, \n",
    "             data_type = [\"SP500\"])\n",
    "S_P_5.get_data_daily_rand(num_use = arg.num_stocks_each,\n",
    "                          path_use = \"../Data Sets/Constituent Data/\")\n",
    "S_P_5.set_up_features(num_features = [arg.periods_use, \n",
    "                                      arg.periods_approximate])"
   ]
  },
  {
   "cell_type": "markdown",
   "metadata": {},
   "source": [
    "### Saving object for later reusage "
   ]
  },
  {
   "cell_type": "code",
   "execution_count": null,
   "metadata": {},
   "outputs": [],
   "source": [
    "import pickle\n",
    "file_pi = open('SP400.data_object', 'w') \n",
    "pickle.dump(S_P_4, file_pi)\n",
    "file_pi = open('SP500.data_object', 'w') \n",
    "pickle.dump(S_P_5, file_pi)"
   ]
  },
  {
   "cell_type": "markdown",
   "metadata": {},
   "source": [
    "## Trainig NN Model"
   ]
  },
  {
   "cell_type": "markdown",
   "metadata": {},
   "source": [
    "## Testing out training data set setup\n",
    "### Predefining Training Data"
   ]
  },
  {
   "cell_type": "code",
   "execution_count": null,
   "metadata": {},
   "outputs": [],
   "source": [
    "%%time\n",
    "%run Model.ipynb\n",
    "\n",
    "train_d = [S_P_5.data_cleaned, S_P_4.data_cleaned]\n",
    "a = train_set(train_d, arg)"
   ]
  },
  {
   "cell_type": "code",
   "execution_count": null,
   "metadata": {},
   "outputs": [],
   "source": [
    "import copy\n",
    "b = copy.deepcopy(a)\n",
    "b[0][0][0]"
   ]
  },
  {
   "cell_type": "markdown",
   "metadata": {},
   "source": [
    "### Training model using example training data"
   ]
  },
  {
   "cell_type": "code",
   "execution_count": null,
   "metadata": {},
   "outputs": [],
   "source": [
    "%%time\n",
    "%run Model.ipynb\n",
    "train_d = [S_P_5.data_cleaned, S_P_4.data_cleaned]\n",
    "\n",
    "the_model = train(train_d, arg, training_data_predefined = b)"
   ]
  },
  {
   "cell_type": "code",
   "execution_count": null,
   "metadata": {},
   "outputs": [],
   "source": [
    "inputer = torch.randn(2, 4, 10)\n",
    "m2 = nn.Sequential(\n",
    "            nn.Conv1d(4,3, 5, padding = 1),\n",
    "            nn.BatchNorm1d(3),\n",
    "            nn.ReLU())\n",
    "m = nn.Sequential(\n",
    "            nn.Conv1d(4,3, 5, padding = 1),\n",
    "            nn.BatchNorm1d(3),\n",
    "            nn.ReLU(),\n",
    "            nn.MaxPool1d(2)\n",
    "            )"
   ]
  },
  {
   "cell_type": "code",
   "execution_count": null,
   "metadata": {},
   "outputs": [],
   "source": [
    "inputer"
   ]
  },
  {
   "cell_type": "code",
   "execution_count": null,
   "metadata": {
    "scrolled": true
   },
   "outputs": [],
   "source": [
    "inputer.transpose_(2,1)"
   ]
  },
  {
   "cell_type": "code",
   "execution_count": null,
   "metadata": {
    "scrolled": true
   },
   "outputs": [],
   "source": [
    "m2(inputer)"
   ]
  },
  {
   "cell_type": "code",
   "execution_count": null,
   "metadata": {},
   "outputs": [],
   "source": [
    "m(inputer)"
   ]
  },
  {
   "cell_type": "code",
   "execution_count": null,
   "metadata": {},
   "outputs": [],
   "source": [
    "len([0.1562, 0.0943, 0.0000, 0.0000, 0.1907, 0.2095, 0.0000, 0.0000,\n",
    "          0.0000, 0.0419, 0.0100, 0.0000, 0.0000, 0.0473, 0.1574, 0.0581,\n",
    "          0.0598, 0.0000, 0.3521, 0.1257, 0.0000, 0.1236, 0.1500, 0.1250,\n",
    "          0.0000, 0.1097, 0.2404, 0.0094, 0.2448, 0.1650, 0.2014, 0.1692,\n",
    "          0.0042, 0.0000, 0.0617, 0.0434, 0.1493, 0.1369, 0.0000, 0.2281,\n",
    "          0.1245, 0.1429, 0.0000, 0.1650, 0.0000, 0.0107, 0.0000, 0.1139,\n",
    "          0.0046, 0.0217, 0.0000, 0.0658, 0.0327, 0.0308, 0.2752, 0.2649,\n",
    "          0.0194, 0.0000, 0.1019, 0.2168, 0.0000, 0.0000, 0.0428, 0.0217])"
   ]
  },
  {
   "cell_type": "code",
   "execution_count": null,
   "metadata": {},
   "outputs": [],
   "source": []
  }
 ],
 "metadata": {
  "hide_input": false,
  "kernelspec": {
   "display_name": "Python 3",
   "language": "python",
   "name": "python3"
  },
  "language_info": {
   "codemirror_mode": {
    "name": "ipython",
    "version": 3
   },
   "file_extension": ".py",
   "mimetype": "text/x-python",
   "name": "python",
   "nbconvert_exporter": "python",
   "pygments_lexer": "ipython3",
   "version": "3.6.7"
  },
  "toc": {
   "base_numbering": 1,
   "nav_menu": {},
   "number_sections": true,
   "sideBar": true,
   "skip_h1_title": false,
   "title_cell": "Table of Contents",
   "title_sidebar": "Contents",
   "toc_cell": false,
   "toc_position": {},
   "toc_section_display": true,
   "toc_window_display": false
  }
 },
 "nbformat": 4,
 "nbformat_minor": 2
}
